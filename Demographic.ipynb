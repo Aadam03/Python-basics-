{
 "cells": [
  {
   "cell_type": "code",
   "execution_count": 1,
   "id": "75651244-ffec-4323-a21d-78817c99465d",
   "metadata": {},
   "outputs": [],
   "source": [
    "##demographic calculator"
   ]
  },
  {
   "cell_type": "code",
   "execution_count": 159,
   "id": "0eeb0d21-dea9-4a6b-bc1b-be1c5c48628c",
   "metadata": {},
   "outputs": [],
   "source": [
    "#import nessesary modules\n",
    "import pandas as pd\n",
    "import numpy as np\n"
   ]
  },
  {
   "cell_type": "code",
   "execution_count": 160,
   "id": "af7778c2-fd5b-4ade-80be-526a9c5424af",
   "metadata": {
    "collapsed": true,
    "jupyter": {
     "outputs_hidden": true
    },
    "tags": []
   },
   "outputs": [
    {
     "data": {
      "text/html": [
       "<div>\n",
       "<style scoped>\n",
       "    .dataframe tbody tr th:only-of-type {\n",
       "        vertical-align: middle;\n",
       "    }\n",
       "\n",
       "    .dataframe tbody tr th {\n",
       "        vertical-align: top;\n",
       "    }\n",
       "\n",
       "    .dataframe thead th {\n",
       "        text-align: right;\n",
       "    }\n",
       "</style>\n",
       "<table border=\"1\" class=\"dataframe\">\n",
       "  <thead>\n",
       "    <tr style=\"text-align: right;\">\n",
       "      <th></th>\n",
       "      <th>age</th>\n",
       "      <th>workclass</th>\n",
       "      <th>fnlwgt</th>\n",
       "      <th>education</th>\n",
       "      <th>education-num</th>\n",
       "      <th>marital-status</th>\n",
       "      <th>occupation</th>\n",
       "      <th>relationship</th>\n",
       "      <th>race</th>\n",
       "      <th>sex</th>\n",
       "      <th>capital-gain</th>\n",
       "      <th>capital-loss</th>\n",
       "      <th>hours-per-week</th>\n",
       "      <th>native-country</th>\n",
       "      <th>salary</th>\n",
       "    </tr>\n",
       "  </thead>\n",
       "  <tbody>\n",
       "    <tr>\n",
       "      <th>0</th>\n",
       "      <td>39</td>\n",
       "      <td>State-gov</td>\n",
       "      <td>77516</td>\n",
       "      <td>Bachelors</td>\n",
       "      <td>13</td>\n",
       "      <td>Never-married</td>\n",
       "      <td>Adm-clerical</td>\n",
       "      <td>Not-in-family</td>\n",
       "      <td>White</td>\n",
       "      <td>Male</td>\n",
       "      <td>2174</td>\n",
       "      <td>0</td>\n",
       "      <td>40</td>\n",
       "      <td>United-States</td>\n",
       "      <td>&lt;=50K</td>\n",
       "    </tr>\n",
       "    <tr>\n",
       "      <th>1</th>\n",
       "      <td>50</td>\n",
       "      <td>Self-emp-not-inc</td>\n",
       "      <td>83311</td>\n",
       "      <td>Bachelors</td>\n",
       "      <td>13</td>\n",
       "      <td>Married-civ-spouse</td>\n",
       "      <td>Exec-managerial</td>\n",
       "      <td>Husband</td>\n",
       "      <td>White</td>\n",
       "      <td>Male</td>\n",
       "      <td>0</td>\n",
       "      <td>0</td>\n",
       "      <td>13</td>\n",
       "      <td>United-States</td>\n",
       "      <td>&lt;=50K</td>\n",
       "    </tr>\n",
       "    <tr>\n",
       "      <th>2</th>\n",
       "      <td>38</td>\n",
       "      <td>Private</td>\n",
       "      <td>215646</td>\n",
       "      <td>HS-grad</td>\n",
       "      <td>9</td>\n",
       "      <td>Divorced</td>\n",
       "      <td>Handlers-cleaners</td>\n",
       "      <td>Not-in-family</td>\n",
       "      <td>White</td>\n",
       "      <td>Male</td>\n",
       "      <td>0</td>\n",
       "      <td>0</td>\n",
       "      <td>40</td>\n",
       "      <td>United-States</td>\n",
       "      <td>&lt;=50K</td>\n",
       "    </tr>\n",
       "    <tr>\n",
       "      <th>3</th>\n",
       "      <td>53</td>\n",
       "      <td>Private</td>\n",
       "      <td>234721</td>\n",
       "      <td>11th</td>\n",
       "      <td>7</td>\n",
       "      <td>Married-civ-spouse</td>\n",
       "      <td>Handlers-cleaners</td>\n",
       "      <td>Husband</td>\n",
       "      <td>Black</td>\n",
       "      <td>Male</td>\n",
       "      <td>0</td>\n",
       "      <td>0</td>\n",
       "      <td>40</td>\n",
       "      <td>United-States</td>\n",
       "      <td>&lt;=50K</td>\n",
       "    </tr>\n",
       "    <tr>\n",
       "      <th>4</th>\n",
       "      <td>28</td>\n",
       "      <td>Private</td>\n",
       "      <td>338409</td>\n",
       "      <td>Bachelors</td>\n",
       "      <td>13</td>\n",
       "      <td>Married-civ-spouse</td>\n",
       "      <td>Prof-specialty</td>\n",
       "      <td>Wife</td>\n",
       "      <td>Black</td>\n",
       "      <td>Female</td>\n",
       "      <td>0</td>\n",
       "      <td>0</td>\n",
       "      <td>40</td>\n",
       "      <td>Cuba</td>\n",
       "      <td>&lt;=50K</td>\n",
       "    </tr>\n",
       "    <tr>\n",
       "      <th>...</th>\n",
       "      <td>...</td>\n",
       "      <td>...</td>\n",
       "      <td>...</td>\n",
       "      <td>...</td>\n",
       "      <td>...</td>\n",
       "      <td>...</td>\n",
       "      <td>...</td>\n",
       "      <td>...</td>\n",
       "      <td>...</td>\n",
       "      <td>...</td>\n",
       "      <td>...</td>\n",
       "      <td>...</td>\n",
       "      <td>...</td>\n",
       "      <td>...</td>\n",
       "      <td>...</td>\n",
       "    </tr>\n",
       "    <tr>\n",
       "      <th>32556</th>\n",
       "      <td>27</td>\n",
       "      <td>Private</td>\n",
       "      <td>257302</td>\n",
       "      <td>Assoc-acdm</td>\n",
       "      <td>12</td>\n",
       "      <td>Married-civ-spouse</td>\n",
       "      <td>Tech-support</td>\n",
       "      <td>Wife</td>\n",
       "      <td>White</td>\n",
       "      <td>Female</td>\n",
       "      <td>0</td>\n",
       "      <td>0</td>\n",
       "      <td>38</td>\n",
       "      <td>United-States</td>\n",
       "      <td>&lt;=50K</td>\n",
       "    </tr>\n",
       "    <tr>\n",
       "      <th>32557</th>\n",
       "      <td>40</td>\n",
       "      <td>Private</td>\n",
       "      <td>154374</td>\n",
       "      <td>HS-grad</td>\n",
       "      <td>9</td>\n",
       "      <td>Married-civ-spouse</td>\n",
       "      <td>Machine-op-inspct</td>\n",
       "      <td>Husband</td>\n",
       "      <td>White</td>\n",
       "      <td>Male</td>\n",
       "      <td>0</td>\n",
       "      <td>0</td>\n",
       "      <td>40</td>\n",
       "      <td>United-States</td>\n",
       "      <td>&gt;50K</td>\n",
       "    </tr>\n",
       "    <tr>\n",
       "      <th>32558</th>\n",
       "      <td>58</td>\n",
       "      <td>Private</td>\n",
       "      <td>151910</td>\n",
       "      <td>HS-grad</td>\n",
       "      <td>9</td>\n",
       "      <td>Widowed</td>\n",
       "      <td>Adm-clerical</td>\n",
       "      <td>Unmarried</td>\n",
       "      <td>White</td>\n",
       "      <td>Female</td>\n",
       "      <td>0</td>\n",
       "      <td>0</td>\n",
       "      <td>40</td>\n",
       "      <td>United-States</td>\n",
       "      <td>&lt;=50K</td>\n",
       "    </tr>\n",
       "    <tr>\n",
       "      <th>32559</th>\n",
       "      <td>22</td>\n",
       "      <td>Private</td>\n",
       "      <td>201490</td>\n",
       "      <td>HS-grad</td>\n",
       "      <td>9</td>\n",
       "      <td>Never-married</td>\n",
       "      <td>Adm-clerical</td>\n",
       "      <td>Own-child</td>\n",
       "      <td>White</td>\n",
       "      <td>Male</td>\n",
       "      <td>0</td>\n",
       "      <td>0</td>\n",
       "      <td>20</td>\n",
       "      <td>United-States</td>\n",
       "      <td>&lt;=50K</td>\n",
       "    </tr>\n",
       "    <tr>\n",
       "      <th>32560</th>\n",
       "      <td>52</td>\n",
       "      <td>Self-emp-inc</td>\n",
       "      <td>287927</td>\n",
       "      <td>HS-grad</td>\n",
       "      <td>9</td>\n",
       "      <td>Married-civ-spouse</td>\n",
       "      <td>Exec-managerial</td>\n",
       "      <td>Wife</td>\n",
       "      <td>White</td>\n",
       "      <td>Female</td>\n",
       "      <td>15024</td>\n",
       "      <td>0</td>\n",
       "      <td>40</td>\n",
       "      <td>United-States</td>\n",
       "      <td>&gt;50K</td>\n",
       "    </tr>\n",
       "  </tbody>\n",
       "</table>\n",
       "<p>32561 rows × 15 columns</p>\n",
       "</div>"
      ],
      "text/plain": [
       "       age         workclass  fnlwgt   education  education-num  \\\n",
       "0       39         State-gov   77516   Bachelors             13   \n",
       "1       50  Self-emp-not-inc   83311   Bachelors             13   \n",
       "2       38           Private  215646     HS-grad              9   \n",
       "3       53           Private  234721        11th              7   \n",
       "4       28           Private  338409   Bachelors             13   \n",
       "...    ...               ...     ...         ...            ...   \n",
       "32556   27           Private  257302  Assoc-acdm             12   \n",
       "32557   40           Private  154374     HS-grad              9   \n",
       "32558   58           Private  151910     HS-grad              9   \n",
       "32559   22           Private  201490     HS-grad              9   \n",
       "32560   52      Self-emp-inc  287927     HS-grad              9   \n",
       "\n",
       "           marital-status         occupation   relationship   race     sex  \\\n",
       "0           Never-married       Adm-clerical  Not-in-family  White    Male   \n",
       "1      Married-civ-spouse    Exec-managerial        Husband  White    Male   \n",
       "2                Divorced  Handlers-cleaners  Not-in-family  White    Male   \n",
       "3      Married-civ-spouse  Handlers-cleaners        Husband  Black    Male   \n",
       "4      Married-civ-spouse     Prof-specialty           Wife  Black  Female   \n",
       "...                   ...                ...            ...    ...     ...   \n",
       "32556  Married-civ-spouse       Tech-support           Wife  White  Female   \n",
       "32557  Married-civ-spouse  Machine-op-inspct        Husband  White    Male   \n",
       "32558             Widowed       Adm-clerical      Unmarried  White  Female   \n",
       "32559       Never-married       Adm-clerical      Own-child  White    Male   \n",
       "32560  Married-civ-spouse    Exec-managerial           Wife  White  Female   \n",
       "\n",
       "       capital-gain  capital-loss  hours-per-week native-country salary  \n",
       "0              2174             0              40  United-States  <=50K  \n",
       "1                 0             0              13  United-States  <=50K  \n",
       "2                 0             0              40  United-States  <=50K  \n",
       "3                 0             0              40  United-States  <=50K  \n",
       "4                 0             0              40           Cuba  <=50K  \n",
       "...             ...           ...             ...            ...    ...  \n",
       "32556             0             0              38  United-States  <=50K  \n",
       "32557             0             0              40  United-States   >50K  \n",
       "32558             0             0              40  United-States  <=50K  \n",
       "32559             0             0              20  United-States  <=50K  \n",
       "32560         15024             0              40  United-States   >50K  \n",
       "\n",
       "[32561 rows x 15 columns]"
      ]
     },
     "execution_count": 160,
     "metadata": {},
     "output_type": "execute_result"
    }
   ],
   "source": [
    "##read csv file\n",
    "df=pd.read_csv('adult.data.csv')\n",
    "df"
   ]
  },
  {
   "cell_type": "code",
   "execution_count": 9,
   "id": "52157908-d198-4702-867a-e9ec3fc20fde",
   "metadata": {},
   "outputs": [
    {
     "data": {
      "text/plain": [
       "White                 27816\n",
       "Black                  3124\n",
       "Asian-Pac-Islander     1039\n",
       "Amer-Indian-Eskimo      311\n",
       "Other                   271\n",
       "Name: race, dtype: int64"
      ]
     },
     "execution_count": 9,
     "metadata": {},
     "output_type": "execute_result"
    }
   ],
   "source": [
    "#Finding how many people are in each race\n",
    "df[\"race\"].value_counts()"
   ]
  },
  {
   "cell_type": "code",
   "execution_count": 24,
   "id": "f7a4d8eb-8025-4f82-a57b-cf94569e8403",
   "metadata": {},
   "outputs": [],
   "source": [
    "#finding the average age of men method 1 (intuitive for me)\n",
    "hf=df.loc[df['sex'] == 'male']"
   ]
  },
  {
   "cell_type": "code",
   "execution_count": 26,
   "id": "75b3de59-fa9f-4b06-acd7-c57d4f2b41e0",
   "metadata": {},
   "outputs": [
    {
     "data": {
      "text/plain": [
       "38.58164675532078"
      ]
     },
     "execution_count": 26,
     "metadata": {},
     "output_type": "execute_result"
    }
   ],
   "source": [
    "hf['age'].mean()"
   ]
  },
  {
   "cell_type": "code",
   "execution_count": 28,
   "id": "eee9c591-3157-499d-98e9-058ca815f3bb",
   "metadata": {},
   "outputs": [
    {
     "data": {
      "text/plain": [
       "38.58164675532078"
      ]
     },
     "execution_count": 28,
     "metadata": {},
     "output_type": "execute_result"
    }
   ],
   "source": [
    "#method 2\n",
    "#I believe there is a better way of doing it\n",
    "(df.loc[df['sex'] == 'male', 'age']).mean()"
   ]
  },
  {
   "cell_type": "code",
   "execution_count": 31,
   "id": "b852260e-d376-46da-8144-61330f3fbac2",
   "metadata": {
    "collapsed": true,
    "jupyter": {
     "outputs_hidden": true
    },
    "tags": []
   },
   "outputs": [
    {
     "data": {
      "text/html": [
       "<div>\n",
       "<style scoped>\n",
       "    .dataframe tbody tr th:only-of-type {\n",
       "        vertical-align: middle;\n",
       "    }\n",
       "\n",
       "    .dataframe tbody tr th {\n",
       "        vertical-align: top;\n",
       "    }\n",
       "\n",
       "    .dataframe thead th {\n",
       "        text-align: right;\n",
       "    }\n",
       "</style>\n",
       "<table border=\"1\" class=\"dataframe\">\n",
       "  <thead>\n",
       "    <tr style=\"text-align: right;\">\n",
       "      <th></th>\n",
       "      <th>age</th>\n",
       "      <th>workclass</th>\n",
       "      <th>fnlwgt</th>\n",
       "      <th>education</th>\n",
       "      <th>education-num</th>\n",
       "      <th>marital-status</th>\n",
       "      <th>occupation</th>\n",
       "      <th>relationship</th>\n",
       "      <th>race</th>\n",
       "      <th>sex</th>\n",
       "      <th>capital-gain</th>\n",
       "      <th>capital-loss</th>\n",
       "      <th>hours-per-week</th>\n",
       "      <th>native-country</th>\n",
       "      <th>salary</th>\n",
       "    </tr>\n",
       "  </thead>\n",
       "  <tbody>\n",
       "    <tr>\n",
       "      <th>0</th>\n",
       "      <td>39</td>\n",
       "      <td>State-gov</td>\n",
       "      <td>77516</td>\n",
       "      <td>Bachelors</td>\n",
       "      <td>13</td>\n",
       "      <td>Never-married</td>\n",
       "      <td>Adm-clerical</td>\n",
       "      <td>Not-in-family</td>\n",
       "      <td>White</td>\n",
       "      <td>male</td>\n",
       "      <td>2174</td>\n",
       "      <td>0</td>\n",
       "      <td>40</td>\n",
       "      <td>United-States</td>\n",
       "      <td>&lt;=50K</td>\n",
       "    </tr>\n",
       "    <tr>\n",
       "      <th>1</th>\n",
       "      <td>50</td>\n",
       "      <td>Self-emp-not-inc</td>\n",
       "      <td>83311</td>\n",
       "      <td>Bachelors</td>\n",
       "      <td>13</td>\n",
       "      <td>Married-civ-spouse</td>\n",
       "      <td>Exec-managerial</td>\n",
       "      <td>Husband</td>\n",
       "      <td>White</td>\n",
       "      <td>male</td>\n",
       "      <td>0</td>\n",
       "      <td>0</td>\n",
       "      <td>13</td>\n",
       "      <td>United-States</td>\n",
       "      <td>&lt;=50K</td>\n",
       "    </tr>\n",
       "    <tr>\n",
       "      <th>2</th>\n",
       "      <td>38</td>\n",
       "      <td>Private</td>\n",
       "      <td>215646</td>\n",
       "      <td>HS-grad</td>\n",
       "      <td>9</td>\n",
       "      <td>Divorced</td>\n",
       "      <td>Handlers-cleaners</td>\n",
       "      <td>Not-in-family</td>\n",
       "      <td>White</td>\n",
       "      <td>male</td>\n",
       "      <td>0</td>\n",
       "      <td>0</td>\n",
       "      <td>40</td>\n",
       "      <td>United-States</td>\n",
       "      <td>&lt;=50K</td>\n",
       "    </tr>\n",
       "    <tr>\n",
       "      <th>3</th>\n",
       "      <td>53</td>\n",
       "      <td>Private</td>\n",
       "      <td>234721</td>\n",
       "      <td>11th</td>\n",
       "      <td>7</td>\n",
       "      <td>Married-civ-spouse</td>\n",
       "      <td>Handlers-cleaners</td>\n",
       "      <td>Husband</td>\n",
       "      <td>Black</td>\n",
       "      <td>male</td>\n",
       "      <td>0</td>\n",
       "      <td>0</td>\n",
       "      <td>40</td>\n",
       "      <td>United-States</td>\n",
       "      <td>&lt;=50K</td>\n",
       "    </tr>\n",
       "    <tr>\n",
       "      <th>4</th>\n",
       "      <td>28</td>\n",
       "      <td>Private</td>\n",
       "      <td>338409</td>\n",
       "      <td>Bachelors</td>\n",
       "      <td>13</td>\n",
       "      <td>Married-civ-spouse</td>\n",
       "      <td>Prof-specialty</td>\n",
       "      <td>Wife</td>\n",
       "      <td>Black</td>\n",
       "      <td>male</td>\n",
       "      <td>0</td>\n",
       "      <td>0</td>\n",
       "      <td>40</td>\n",
       "      <td>Cuba</td>\n",
       "      <td>&lt;=50K</td>\n",
       "    </tr>\n",
       "    <tr>\n",
       "      <th>...</th>\n",
       "      <td>...</td>\n",
       "      <td>...</td>\n",
       "      <td>...</td>\n",
       "      <td>...</td>\n",
       "      <td>...</td>\n",
       "      <td>...</td>\n",
       "      <td>...</td>\n",
       "      <td>...</td>\n",
       "      <td>...</td>\n",
       "      <td>...</td>\n",
       "      <td>...</td>\n",
       "      <td>...</td>\n",
       "      <td>...</td>\n",
       "      <td>...</td>\n",
       "      <td>...</td>\n",
       "    </tr>\n",
       "    <tr>\n",
       "      <th>32556</th>\n",
       "      <td>27</td>\n",
       "      <td>Private</td>\n",
       "      <td>257302</td>\n",
       "      <td>Assoc-acdm</td>\n",
       "      <td>12</td>\n",
       "      <td>Married-civ-spouse</td>\n",
       "      <td>Tech-support</td>\n",
       "      <td>Wife</td>\n",
       "      <td>White</td>\n",
       "      <td>male</td>\n",
       "      <td>0</td>\n",
       "      <td>0</td>\n",
       "      <td>38</td>\n",
       "      <td>United-States</td>\n",
       "      <td>&lt;=50K</td>\n",
       "    </tr>\n",
       "    <tr>\n",
       "      <th>32557</th>\n",
       "      <td>40</td>\n",
       "      <td>Private</td>\n",
       "      <td>154374</td>\n",
       "      <td>HS-grad</td>\n",
       "      <td>9</td>\n",
       "      <td>Married-civ-spouse</td>\n",
       "      <td>Machine-op-inspct</td>\n",
       "      <td>Husband</td>\n",
       "      <td>White</td>\n",
       "      <td>male</td>\n",
       "      <td>0</td>\n",
       "      <td>0</td>\n",
       "      <td>40</td>\n",
       "      <td>United-States</td>\n",
       "      <td>&gt;50K</td>\n",
       "    </tr>\n",
       "    <tr>\n",
       "      <th>32558</th>\n",
       "      <td>58</td>\n",
       "      <td>Private</td>\n",
       "      <td>151910</td>\n",
       "      <td>HS-grad</td>\n",
       "      <td>9</td>\n",
       "      <td>Widowed</td>\n",
       "      <td>Adm-clerical</td>\n",
       "      <td>Unmarried</td>\n",
       "      <td>White</td>\n",
       "      <td>male</td>\n",
       "      <td>0</td>\n",
       "      <td>0</td>\n",
       "      <td>40</td>\n",
       "      <td>United-States</td>\n",
       "      <td>&lt;=50K</td>\n",
       "    </tr>\n",
       "    <tr>\n",
       "      <th>32559</th>\n",
       "      <td>22</td>\n",
       "      <td>Private</td>\n",
       "      <td>201490</td>\n",
       "      <td>HS-grad</td>\n",
       "      <td>9</td>\n",
       "      <td>Never-married</td>\n",
       "      <td>Adm-clerical</td>\n",
       "      <td>Own-child</td>\n",
       "      <td>White</td>\n",
       "      <td>male</td>\n",
       "      <td>0</td>\n",
       "      <td>0</td>\n",
       "      <td>20</td>\n",
       "      <td>United-States</td>\n",
       "      <td>&lt;=50K</td>\n",
       "    </tr>\n",
       "    <tr>\n",
       "      <th>32560</th>\n",
       "      <td>52</td>\n",
       "      <td>Self-emp-inc</td>\n",
       "      <td>287927</td>\n",
       "      <td>HS-grad</td>\n",
       "      <td>9</td>\n",
       "      <td>Married-civ-spouse</td>\n",
       "      <td>Exec-managerial</td>\n",
       "      <td>Wife</td>\n",
       "      <td>White</td>\n",
       "      <td>male</td>\n",
       "      <td>15024</td>\n",
       "      <td>0</td>\n",
       "      <td>40</td>\n",
       "      <td>United-States</td>\n",
       "      <td>&gt;50K</td>\n",
       "    </tr>\n",
       "  </tbody>\n",
       "</table>\n",
       "<p>32561 rows × 15 columns</p>\n",
       "</div>"
      ],
      "text/plain": [
       "       age         workclass  fnlwgt   education  education-num  \\\n",
       "0       39         State-gov   77516   Bachelors             13   \n",
       "1       50  Self-emp-not-inc   83311   Bachelors             13   \n",
       "2       38           Private  215646     HS-grad              9   \n",
       "3       53           Private  234721        11th              7   \n",
       "4       28           Private  338409   Bachelors             13   \n",
       "...    ...               ...     ...         ...            ...   \n",
       "32556   27           Private  257302  Assoc-acdm             12   \n",
       "32557   40           Private  154374     HS-grad              9   \n",
       "32558   58           Private  151910     HS-grad              9   \n",
       "32559   22           Private  201490     HS-grad              9   \n",
       "32560   52      Self-emp-inc  287927     HS-grad              9   \n",
       "\n",
       "           marital-status         occupation   relationship   race   sex  \\\n",
       "0           Never-married       Adm-clerical  Not-in-family  White  male   \n",
       "1      Married-civ-spouse    Exec-managerial        Husband  White  male   \n",
       "2                Divorced  Handlers-cleaners  Not-in-family  White  male   \n",
       "3      Married-civ-spouse  Handlers-cleaners        Husband  Black  male   \n",
       "4      Married-civ-spouse     Prof-specialty           Wife  Black  male   \n",
       "...                   ...                ...            ...    ...   ...   \n",
       "32556  Married-civ-spouse       Tech-support           Wife  White  male   \n",
       "32557  Married-civ-spouse  Machine-op-inspct        Husband  White  male   \n",
       "32558             Widowed       Adm-clerical      Unmarried  White  male   \n",
       "32559       Never-married       Adm-clerical      Own-child  White  male   \n",
       "32560  Married-civ-spouse    Exec-managerial           Wife  White  male   \n",
       "\n",
       "       capital-gain  capital-loss  hours-per-week native-country salary  \n",
       "0              2174             0              40  United-States  <=50K  \n",
       "1                 0             0              13  United-States  <=50K  \n",
       "2                 0             0              40  United-States  <=50K  \n",
       "3                 0             0              40  United-States  <=50K  \n",
       "4                 0             0              40           Cuba  <=50K  \n",
       "...             ...           ...             ...            ...    ...  \n",
       "32556             0             0              38  United-States  <=50K  \n",
       "32557             0             0              40  United-States   >50K  \n",
       "32558             0             0              40  United-States  <=50K  \n",
       "32559             0             0              20  United-States  <=50K  \n",
       "32560         15024             0              40  United-States   >50K  \n",
       "\n",
       "[32561 rows x 15 columns]"
      ]
     },
     "execution_count": 31,
     "metadata": {},
     "output_type": "execute_result"
    }
   ],
   "source": [
    "df"
   ]
  },
  {
   "cell_type": "code",
   "execution_count": 37,
   "id": "4ab7a55b-8499-49f1-94f2-29eb82aac0e3",
   "metadata": {},
   "outputs": [
    {
     "data": {
      "text/plain": [
       "False    27206\n",
       "True      5355\n",
       "Name: education, dtype: int64"
      ]
     },
     "execution_count": 37,
     "metadata": {},
     "output_type": "execute_result"
    }
   ],
   "source": [
    "(df['education'] == 'Bachelors').value_counts()"
   ]
  },
  {
   "cell_type": "code",
   "execution_count": 47,
   "id": "37071190-9655-4f70-aab6-0a518fe89595",
   "metadata": {},
   "outputs": [],
   "source": [
    "percentage_of_bachelors = (5355/(27206+5355))*100"
   ]
  },
  {
   "cell_type": "code",
   "execution_count": 48,
   "id": "d5e7c6ff-612c-46c8-83c6-818cc644ae25",
   "metadata": {},
   "outputs": [
    {
     "data": {
      "text/plain": [
       "16.44605509658794"
      ]
     },
     "execution_count": 48,
     "metadata": {},
     "output_type": "execute_result"
    }
   ],
   "source": [
    "percentage_of_bachelors"
   ]
  },
  {
   "cell_type": "code",
   "execution_count": 41,
   "id": "be14aeaf-28a9-4784-ba32-f2cff94ae265",
   "metadata": {},
   "outputs": [],
   "source": [
    "#method2"
   ]
  },
  {
   "cell_type": "code",
   "execution_count": 11,
   "id": "62a8bfa4-b872-4fc8-86e9-3f06605b84b2",
   "metadata": {},
   "outputs": [],
   "source": [
    "#either should be fine \n",
    "h=(df['education'][(df['education'] == 'Bachelors')]).value_counts()\n",
    "#h=len(df['education'][(df['education'] == 'Bachelors')])"
   ]
  },
  {
   "cell_type": "code",
   "execution_count": 33,
   "id": "cdbf1989-085d-4c03-85e7-0c9f9535e94d",
   "metadata": {},
   "outputs": [
    {
     "data": {
      "text/plain": [
       "32561"
      ]
     },
     "execution_count": 33,
     "metadata": {},
     "output_type": "execute_result"
    }
   ],
   "source": [
    "#below ia two way to get the total, I have just used the better way as it makes more sense\n",
    "#total_education = len((df['education'][(df['education'] != 'Bachelors')])) +h\n",
    "\n",
    "#better way \n",
    "total_education = len(df['education'])\n",
    "total_education \n"
   ]
  },
  {
   "cell_type": "code",
   "execution_count": 49,
   "id": "82a012e5-dc6a-4c4e-86f9-7535837b172e",
   "metadata": {},
   "outputs": [],
   "source": [
    "#finding percentage and rounding to 2 dp\n",
    "percentagee_of_bachelors = round(((h/total_education)*100),2)"
   ]
  },
  {
   "cell_type": "code",
   "execution_count": 56,
   "id": "6890cad2-ee77-4972-aecc-a5f0563a65f5",
   "metadata": {},
   "outputs": [
    {
     "name": "stdout",
     "output_type": "stream",
     "text": [
      "The percentage of Bachelors is 16.45%\n"
     ]
    }
   ],
   "source": [
    "print(\"The percentage of Bachelors is \" + str(percentagee_of_bachelors) + \"%\")"
   ]
  },
  {
   "cell_type": "code",
   "execution_count": 79,
   "id": "aaf09e14-1f8a-4f0b-90c9-1466408ab685",
   "metadata": {},
   "outputs": [],
   "source": [
    "#percentage of people with higher education task\n",
    "# using conditional selection, a handy tool, or means it will include all instances of what I specify\n",
    "higher_education=len(df['education'][(df['education'] == 'Bachelors') | (df['education'] == 'Masters') | (df['education'] =='Doctrate')])"
   ]
  },
  {
   "cell_type": "code",
   "execution_count": 121,
   "id": "4d02b415-6c58-4207-be81-747180f41b7d",
   "metadata": {},
   "outputs": [],
   "source": [
    "percentage_of_higher_education= round((higher_education/total_education)*100,2)"
   ]
  },
  {
   "cell_type": "code",
   "execution_count": 80,
   "id": "e61ca3ec-173f-4fdf-b755-147c652088c1",
   "metadata": {},
   "outputs": [
    {
     "name": "stdout",
     "output_type": "stream",
     "text": [
      "The percentage of people with a higher education  is 21.74%\n"
     ]
    }
   ],
   "source": [
    "print(\"The percentage of people with a higher education  is \" + str(percentage_of_higher_education) + \"%\")"
   ]
  },
  {
   "cell_type": "code",
   "execution_count": 107,
   "id": "489884ac-85d4-4cce-8281-19ee71605455",
   "metadata": {},
   "outputs": [],
   "source": [
    "#finding how many people with higher education earn >50K\n",
    "#creating a new dataframe with what I am going to be focusing on\n",
    "#This helps me query better as the dataframe is more focused\n",
    "hf=df.loc[(df['education'] == 'Bachelors') | (df['education'] == 'Masters') | (df['education'] == 'Doctorate')]"
   ]
  },
  {
   "cell_type": "code",
   "execution_count": 138,
   "id": "256737a4-5232-40aa-84e9-a93fbfa989f2",
   "metadata": {},
   "outputs": [],
   "source": [
    "#some people may not like the variable names but it is an alternative way of dealing with outputs \n",
    "number_of_HE_with_over50K=len(hf['salary'][(hf['salary'] == '>50K')])"
   ]
  },
  {
   "cell_type": "code",
   "execution_count": 139,
   "id": "ec59b0d8-cf93-47d7-9e24-4a4a7f275699",
   "metadata": {},
   "outputs": [],
   "source": [
    "#len() is a handy tool as it will give you how many columns, better than\n",
    "#value_counts() most of the time because we are ususally dealing with more than 1 option (true or false)\n",
    "number_of_people_withHE = len(hf['education'])"
   ]
  },
  {
   "cell_type": "code",
   "execution_count": 144,
   "id": "70923bd2-7b66-4f54-af0d-533ef619393d",
   "metadata": {},
   "outputs": [],
   "source": [
    "Percentage_of_HE_with_over50K = round((number_of_HE_with_over50K/number_of_people_withHE )*100,2)"
   ]
  },
  {
   "cell_type": "code",
   "execution_count": 186,
   "id": "b9e8c485-bfff-47b1-b591-d4427163160a",
   "metadata": {},
   "outputs": [
    {
     "name": "stdout",
     "output_type": "stream",
     "text": [
      "The percentage of people with higher education and earn over 50K relative to other higher educationeers is 46.54%\n",
      "The percentage of people with higher education and earn over 50K relative to everyone is 10.71%\n"
     ]
    }
   ],
   "source": [
    "# finding the percentage relative to the whole dataset and not only the focused dataset\n",
    "Percentage_of_HE_with_over50K_total = round((number_of_HE_with_over50K/len(df) )*100,2)\n",
    "print(\"The percentage of people with higher education and earn over 50K relative to other higher educationeers is \" +\n",
    "      str(Percentage_of_HE_with_over50K) + \"%\")\n",
    "print(\"The percentage of people with higher education and earn over 50K relative to everyone is \" +\n",
    "      str(Percentage_of_HE_with_over50K_total) + \"%\")\n"
   ]
  },
  {
   "cell_type": "code",
   "execution_count": 146,
   "id": "6d6f399e-53c0-4d1a-8d84-109ac74f27bf",
   "metadata": {},
   "outputs": [],
   "source": [
    "#What percentage of people without advanced education make more than 50K?"
   ]
  },
  {
   "cell_type": "code",
   "execution_count": 167,
   "id": "f0d1751c-69ee-4b88-9dca-1bb18c6b9c45",
   "metadata": {
    "tags": []
   },
   "outputs": [],
   "source": [
    "#creating a more focused dataset\n",
    "mf=df.loc[~((df['education'] == 'Bachelors') | (df['education'] == 'Masters') | (df['education'] == 'Doctorate'))]"
   ]
  },
  {
   "cell_type": "code",
   "execution_count": 172,
   "id": "8323a972-5af9-41cf-b226-c0cfd88e8480",
   "metadata": {},
   "outputs": [],
   "source": [
    "#find amount of peoplle without Higher education\n",
    "people_without_HE=len(mf)"
   ]
  },
  {
   "cell_type": "code",
   "execution_count": 170,
   "id": "23cfd5ac-89e6-4386-96e4-3d07e74801ff",
   "metadata": {},
   "outputs": [],
   "source": [
    "#Number of people without higher education and earn over 50K\n",
    "No_HE_with_over50K=len(mf['salary'][(mf['salary'] == '>50K')])"
   ]
  },
  {
   "cell_type": "code",
   "execution_count": 171,
   "id": "7dd3ec67-1a30-4487-a2d9-8e3619e3530a",
   "metadata": {},
   "outputs": [
    {
     "data": {
      "text/plain": [
       "4355"
      ]
     },
     "execution_count": 171,
     "metadata": {},
     "output_type": "execute_result"
    }
   ],
   "source": [
    "No_HE_with_over50K"
   ]
  },
  {
   "cell_type": "code",
   "execution_count": 177,
   "id": "d3390cd8-8847-4d02-8059-49fa88da28c7",
   "metadata": {},
   "outputs": [],
   "source": [
    "#Percentage calculation\n",
    "percent_of_people_with_no_HE_over50K = round((No_HE_with_over50K/people_without_HE)*100,2)"
   ]
  },
  {
   "cell_type": "code",
   "execution_count": 179,
   "id": "90bbfef2-500d-45b5-9910-c8fb2f3d1a3a",
   "metadata": {},
   "outputs": [
    {
     "name": "stdout",
     "output_type": "stream",
     "text": [
      "The proportion of people without higher education that earn over 50,000 dollars relative to other people without a higher education a year is 17.37%\n"
     ]
    }
   ],
   "source": [
    "print(\"The proportion of people without higher education that earn over 50,000 dollars relative to other people without a higher education a year is \" \n",
    "      + str(percent_of_people_with_no_HE_over50K) +\"%\")"
   ]
  },
  {
   "cell_type": "code",
   "execution_count": 180,
   "id": "ef75ed0f-304b-4b65-aa3a-add619bc6798",
   "metadata": {},
   "outputs": [],
   "source": [
    "#Percentage calculation relative to the whole dataset\n",
    "percent_of_people_with_no_HE_over50K_total = round((No_HE_with_over50K/len(df))*100,2)"
   ]
  },
  {
   "cell_type": "code",
   "execution_count": 183,
   "id": "e865da22-0db1-4fb1-bd47-4dddef7aef73",
   "metadata": {},
   "outputs": [
    {
     "name": "stdout",
     "output_type": "stream",
     "text": [
      "The proportion of people without higher education that earn over 50K relative to everyone a year is 13.37%\n"
     ]
    }
   ],
   "source": [
    "print(\"The proportion of people without higher education that earn over 50K relative to everyone a year is \" \n",
    "      + str(percent_of_people_with_no_HE_over50K_total) +\"%\")"
   ]
  },
  {
   "cell_type": "code",
   "execution_count": 191,
   "id": "09d873bc-a0f4-4135-92be-113733f91fb4",
   "metadata": {
    "tags": []
   },
   "outputs": [
    {
     "data": {
      "text/plain": [
       "1"
      ]
     },
     "execution_count": 191,
     "metadata": {},
     "output_type": "execute_result"
    }
   ],
   "source": [
    "#What is the minimum number of hours a person works per week?\n",
    "#min() is a handy tool which can quickly find the lowest value in a column/dataset\n",
    "df['hours-per-week'].min()"
   ]
  },
  {
   "cell_type": "code",
   "execution_count": 196,
   "id": "58a5a3ef-dc71-4f84-8792-7f2abc2035a5",
   "metadata": {},
   "outputs": [],
   "source": [
    "#What percentage of the people who work the minimum number of hours per week have a salary of more than 50K?"
   ]
  },
  {
   "cell_type": "code",
   "execution_count": 207,
   "id": "bb76cd83-f270-43e2-85ef-8f6feee8bad4",
   "metadata": {
    "tags": []
   },
   "outputs": [],
   "source": [
    "#creating a new dataset with minimum hour people \n",
    "lf=(df.loc[df['hours-per-week']<=1]) #people who work the minimum hours"
   ]
  },
  {
   "cell_type": "code",
   "execution_count": 213,
   "id": "6c554e15-02d0-4217-aed6-1f904605127b",
   "metadata": {},
   "outputs": [
    {
     "data": {
      "text/plain": [
       "2"
      ]
     },
     "execution_count": 213,
     "metadata": {},
     "output_type": "execute_result"
    }
   ],
   "source": [
    "\n",
    "len(lf.loc[(lf['salary']== \">50K\")]) #number of people who make more than 50k and work minimum hours\n",
    "#very lucky people :(,"
   ]
  },
  {
   "cell_type": "code",
   "execution_count": 214,
   "id": "d445d3f5-4ad6-4d20-b179-502471a6e979",
   "metadata": {},
   "outputs": [],
   "source": [
    "#Percentage relative to all min hour workers\n",
    "percentage_of_high_earners_and_min_hours = ((len(lf.loc[(lf['salary']== \">50K\")]))/len(lf))*100"
   ]
  },
  {
   "cell_type": "code",
   "execution_count": 221,
   "id": "dadf52cf-491a-4141-812e-445730355d69",
   "metadata": {},
   "outputs": [
    {
     "name": "stdout",
     "output_type": "stream",
     "text": [
      "The percentage of people who work the minimum hours and still earn >50K relative to other minimum hour people is    10.0%\n"
     ]
    }
   ],
   "source": [
    "print(\"The percentage of people who work the minimum hours and still earn >50K relative to other minimum hour people is    \" \n",
    "      +  str(percentage_of_high_earners_and_min_hours)\n",
    "      +\"%\")"
   ]
  },
  {
   "cell_type": "code",
   "execution_count": 233,
   "id": "9f26963d-8a6f-4773-8185-142e64ebc397",
   "metadata": {},
   "outputs": [
    {
     "name": "stdout",
     "output_type": "stream",
     "text": [
      "The percentage of people who work the minimum hours and still earn >50K relative to evereyone is  0.006%\n"
     ]
    }
   ],
   "source": [
    "#percentage of high min hour earners relative to whole dataset\n",
    "percentage_of_high_earners_and_min_hours_nonrelative = round(((len(lf.loc[(lf['salary']== \">50K\")]))/len(df))*100,3)\n",
    "print(\"The percentage of people who work the minimum hours and still earn >50K relative to evereyone is  \" \n",
    "      + str(percentage_of_high_earners_and_min_hours_nonrelative)\n",
    "      +\"%\")"
   ]
  },
  {
   "cell_type": "code",
   "execution_count": 239,
   "id": "d271fe46-35cb-4fdd-af0d-04f27c2ec481",
   "metadata": {},
   "outputs": [],
   "source": [
    "#What country has the highest percentage of people that earn >50K and what is that percentage?"
   ]
  },
  {
   "cell_type": "code",
   "execution_count": 270,
   "id": "8284e69a-7280-4d5c-8b27-2ceeaecd819a",
   "metadata": {
    "tags": []
   },
   "outputs": [
    {
     "data": {
      "text/plain": [
       "7841"
      ]
     },
     "execution_count": 270,
     "metadata": {},
     "output_type": "execute_result"
    }
   ],
   "source": [
    "#all the countries where people earn over 50K\n",
    "num_of_over50K=len(df.loc[df['salary']=='>50K','native-country'])"
   ]
  },
  {
   "cell_type": "code",
   "execution_count": 256,
   "id": "db0ae103-d0ae-463a-b54d-fe228ae530aa",
   "metadata": {},
   "outputs": [],
   "source": [
    "#finding the highest number of people for a country earning over 50K\n",
    "#handy tool again, using conditional selection, the & operator\n",
    "##maybe I could of used the .mode() function but at the time this was the most intutitve \n",
    "num_of_highest_country_over50k=len(df.loc[(df['salary']=='>50K') & (df['native-country']== 'United-States')])"
   ]
  },
  {
   "cell_type": "code",
   "execution_count": 257,
   "id": "f89f1f6a-221d-4a0c-ba6f-b9f9bcc9c79c",
   "metadata": {},
   "outputs": [],
   "source": [
    "#percentaage relative to other earners from all countries\n",
    "highest_earning_countrypercent=  round(((num_of_highest_country_over50k/num_of_over50K)*100),2)"
   ]
  },
  {
   "cell_type": "code",
   "execution_count": 259,
   "id": "3aeccc1f-cc89-4e03-bf57-5ca8c527bca5",
   "metadata": {},
   "outputs": [
    {
     "name": "stdout",
     "output_type": "stream",
     "text": [
      "The percentage of the highest earning country (>50K) is 91.46%\n"
     ]
    }
   ],
   "source": [
    "print(\"The percentage of the highest earning country (>50K) is \" \n",
    "      +str(highest_earning_countrypercent) +\"%\")"
   ]
  },
  {
   "cell_type": "code",
   "execution_count": 263,
   "id": "e7c335c5-bfac-472a-ad1c-be6ffefb711d",
   "metadata": {
    "tags": []
   },
   "outputs": [],
   "source": [
    "#Identify the most popular occupation for those who earn >50K in India\n",
    "#making another focused dataset which only holds imformation\n",
    "#for people in India earning over 50K\n",
    "If=df.loc[(df['salary']==\">50K\")&(df['native-country']=='India')]"
   ]
  },
  {
   "cell_type": "code",
   "execution_count": 269,
   "id": "9adb11c2-df49-4c60-8da3-5293b04f9f2f",
   "metadata": {},
   "outputs": [
    {
     "data": {
      "text/plain": [
       "0    Prof-specialty\n",
       "Name: occupation, dtype: object"
      ]
     },
     "execution_count": 269,
     "metadata": {},
     "output_type": "execute_result"
    }
   ],
   "source": [
    "If['occupation'].mode() #the most popular job for people in India who are earning >50K"
   ]
  },
  {
   "cell_type": "code",
   "execution_count": 268,
   "id": "f6fc85c1-5442-4900-bd31-3f8bb9276223",
   "metadata": {},
   "outputs": [
    {
     "name": "stdout",
     "output_type": "stream",
     "text": [
      "The most popular job for people in India who are earning over 50K is 0    Prof-specialty\n",
      "Name: occupation, dtype: object\n"
     ]
    }
   ],
   "source": []
  },
  {
   "cell_type": "code",
   "execution_count": null,
   "id": "1b254bca-acc0-4718-841c-9b488ea1eed1",
   "metadata": {},
   "outputs": [],
   "source": []
  }
 ],
 "metadata": {
  "kernelspec": {
   "display_name": "Python 3 (ipykernel)",
   "language": "python",
   "name": "python3"
  },
  "language_info": {
   "codemirror_mode": {
    "name": "ipython",
    "version": 3
   },
   "file_extension": ".py",
   "mimetype": "text/x-python",
   "name": "python",
   "nbconvert_exporter": "python",
   "pygments_lexer": "ipython3",
   "version": "3.9.7"
  }
 },
 "nbformat": 4,
 "nbformat_minor": 5
}
